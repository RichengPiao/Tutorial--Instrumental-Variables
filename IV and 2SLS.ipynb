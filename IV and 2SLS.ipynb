{
 "cells": [
  {
   "cell_type": "code",
   "execution_count": 11,
   "metadata": {},
   "outputs": [],
   "source": [
    "# Import libariy\n",
    "import pandas as pd\n",
    "import numpy as np\n",
    "from linearmodels.iv import IV2SLS"
   ]
  },
  {
   "cell_type": "code",
   "execution_count": 12,
   "metadata": {},
   "outputs": [
    {
     "data": {
      "text/html": [
       "<div>\n",
       "<style scoped>\n",
       "    .dataframe tbody tr th:only-of-type {\n",
       "        vertical-align: middle;\n",
       "    }\n",
       "\n",
       "    .dataframe tbody tr th {\n",
       "        vertical-align: top;\n",
       "    }\n",
       "\n",
       "    .dataframe thead th {\n",
       "        text-align: right;\n",
       "    }\n",
       "</style>\n",
       "<table border=\"1\" class=\"dataframe\">\n",
       "  <thead>\n",
       "    <tr style=\"text-align: right;\">\n",
       "      <th></th>\n",
       "      <th>log_weekly_wage</th>\n",
       "      <th>education</th>\n",
       "      <th>year_of_birth</th>\n",
       "      <th>quarter_of_birth</th>\n",
       "      <th>place_of_birth</th>\n",
       "    </tr>\n",
       "  </thead>\n",
       "  <tbody>\n",
       "    <tr>\n",
       "      <th>0</th>\n",
       "      <td>5.790019</td>\n",
       "      <td>12</td>\n",
       "      <td>30</td>\n",
       "      <td>1</td>\n",
       "      <td>45</td>\n",
       "    </tr>\n",
       "    <tr>\n",
       "      <th>1</th>\n",
       "      <td>5.952494</td>\n",
       "      <td>11</td>\n",
       "      <td>30</td>\n",
       "      <td>1</td>\n",
       "      <td>45</td>\n",
       "    </tr>\n",
       "    <tr>\n",
       "      <th>2</th>\n",
       "      <td>5.315949</td>\n",
       "      <td>12</td>\n",
       "      <td>30</td>\n",
       "      <td>1</td>\n",
       "      <td>45</td>\n",
       "    </tr>\n",
       "    <tr>\n",
       "      <th>3</th>\n",
       "      <td>5.595926</td>\n",
       "      <td>12</td>\n",
       "      <td>30</td>\n",
       "      <td>1</td>\n",
       "      <td>45</td>\n",
       "    </tr>\n",
       "    <tr>\n",
       "      <th>4</th>\n",
       "      <td>6.068915</td>\n",
       "      <td>12</td>\n",
       "      <td>30</td>\n",
       "      <td>1</td>\n",
       "      <td>37</td>\n",
       "    </tr>\n",
       "  </tbody>\n",
       "</table>\n",
       "</div>"
      ],
      "text/plain": [
       "   log_weekly_wage  education  year_of_birth  quarter_of_birth  place_of_birth\n",
       "0         5.790019         12             30                 1              45\n",
       "1         5.952494         11             30                 1              45\n",
       "2         5.315949         12             30                 1              45\n",
       "3         5.595926         12             30                 1              45\n",
       "4         6.068915         12             30                 1              37"
      ]
     },
     "execution_count": 12,
     "metadata": {},
     "output_type": "execute_result"
    }
   ],
   "source": [
    "#get the wage data set from R\n",
    "df = pd.read_csv('data.csv')\n",
    "df.head()"
   ]
  },
  {
   "cell_type": "code",
   "execution_count": 35,
   "metadata": {},
   "outputs": [
    {
     "name": "stdout",
     "output_type": "stream",
     "text": [
      "                            OLS Estimation Summary                            \n",
      "==============================================================================\n",
      "Dep. Variable:        log_weekly_wage   R-squared:                      0.1177\n",
      "Estimator:                        OLS   Adj. R-squared:                 0.1177\n",
      "No. Observations:              329509   F-statistic:                 3.473e+04\n",
      "Date:                Tue, Dec 07 2021   P-value (F-stat)                0.0000\n",
      "Time:                        09:49:30   Distribution:                  chi2(2)\n",
      "Cov. Estimator:                robust                                         \n",
      "                                                                              \n",
      "                               Parameter Estimates                               \n",
      "=================================================================================\n",
      "               Parameter  Std. Err.     T-stat    P-value    Lower CI    Upper CI\n",
      "---------------------------------------------------------------------------------\n",
      "Intercept         5.1621     0.0139     370.40     0.0000      5.1348      5.1894\n",
      "year_of_birth    -0.0049     0.0004    -12.850     0.0000     -0.0057     -0.0042\n",
      "education         0.0711     0.0004     186.34     0.0000      0.0703      0.0718\n",
      "=================================================================================\n"
     ]
    }
   ],
   "source": [
    "model_ben = 'log_weekly_wage ~ 1 + year_of_birth + education'\n",
    "regress_ben = IV2SLS.from_formula(model_ben,df).fit(cov_type='robust')\n",
    "print(regress_ben)"
   ]
  },
  {
   "cell_type": "code",
   "execution_count": 34,
   "metadata": {},
   "outputs": [
    {
     "name": "stdout",
     "output_type": "stream",
     "text": [
      "                          IV-2SLS Estimation Summary                          \n",
      "==============================================================================\n",
      "Dep. Variable:        log_weekly_wage   R-squared:                      0.0923\n",
      "Estimator:                    IV-2SLS   Adj. R-squared:                 0.0923\n",
      "No. Observations:              329509   F-statistic:                    42.793\n",
      "Date:                Tue, Dec 07 2021   P-value (F-stat)                0.0000\n",
      "Time:                        09:49:28   Distribution:                  chi2(2)\n",
      "Cov. Estimator:                robust                                         \n",
      "                                                                              \n",
      "                               Parameter Estimates                               \n",
      "=================================================================================\n",
      "               Parameter  Std. Err.     T-stat    P-value    Lower CI    Upper CI\n",
      "---------------------------------------------------------------------------------\n",
      "Intercept         4.8089     0.1763     27.274     0.0000      4.4633      5.1544\n",
      "year_of_birth    -0.0069     0.0011    -6.4947     0.0000     -0.0090     -0.0048\n",
      "education         0.1041     0.0164     6.3315     0.0000      0.0719      0.1363\n",
      "=================================================================================\n",
      "\n",
      "Endogenous: education\n",
      "Instruments: quarter_of_birth, place_of_birth\n",
      "Robust Covariance (Heteroskedastic)\n",
      "Debiased: False\n"
     ]
    }
   ],
   "source": [
    "model_IV = 'log_weekly_wage ~ 1 + year_of_birth + [education ~ quarter_of_birth + place_of_birth]'\n",
    "regress_IV = IV2SLS.from_formula(model_IV,df).fit(cov_type='robust')\n",
    "print(regress_IV)"
   ]
  },
  {
   "cell_type": "code",
   "execution_count": 37,
   "metadata": {},
   "outputs": [
    {
     "name": "stdout",
     "output_type": "stream",
     "text": [
      "    First Stage Estimation Results    \n",
      "======================================\n",
      "                             education\n",
      "--------------------------------------\n",
      "R-squared                       0.0032\n",
      "Partial R-squared               0.0004\n",
      "Shea's R-squared                0.0004\n",
      "Partial F-statistic             142.93\n",
      "P-value (Partial F-stat)        0.0000\n",
      "Partial F-stat Distn           chi2(2)\n",
      "========================== ===========\n",
      "Intercept                       10.670\n",
      "                              (150.09)\n",
      "year_of_birth                   0.0595\n",
      "                              (30.266)\n",
      "quarter_of_birth                0.0501\n",
      "                              (9.7868)\n",
      "place_of_birth                 -0.0028\n",
      "                             (-6.8602)\n",
      "--------------------------------------\n",
      "\n",
      "T-stats reported in parentheses\n",
      "T-stats use same covariance type as original model\n"
     ]
    }
   ],
   "source": [
    "print(regress_IV.first_stage)"
   ]
  },
  {
   "cell_type": "code",
   "execution_count": null,
   "metadata": {},
   "outputs": [],
   "source": []
  }
 ],
 "metadata": {
  "interpreter": {
   "hash": "607f3383a401117d4368d2a3f9ae06e441e7aaeb9e62d8b19b580cf246dd6567"
  },
  "kernelspec": {
   "display_name": "Python 3.7.3 64-bit",
   "language": "python",
   "name": "python3"
  },
  "language_info": {
   "codemirror_mode": {
    "name": "ipython",
    "version": 3
   },
   "file_extension": ".py",
   "mimetype": "text/x-python",
   "name": "python",
   "nbconvert_exporter": "python",
   "pygments_lexer": "ipython3",
   "version": "3.7.3"
  },
  "orig_nbformat": 4
 },
 "nbformat": 4,
 "nbformat_minor": 2
}
